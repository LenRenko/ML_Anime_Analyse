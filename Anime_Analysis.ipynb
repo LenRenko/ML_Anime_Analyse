{
 "cells": [
  {
   "cell_type": "code",
   "execution_count": 2,
   "metadata": {
    "ExecuteTime": {
     "end_time": "2020-02-05T10:56:25.099499Z",
     "start_time": "2020-02-05T10:56:24.013522Z"
    }
   },
   "outputs": [],
   "source": [
    "import numpy as np\n",
    "import pandas as pd\n",
    "import seaborn as sns\n",
    "import matplotlib.pyplot as plt\n",
    "import plotly as py\n",
    "import plotly.express as px\n",
    "import plotly.graph_objects as go\n",
    "import surprise as sp\n",
    "import dask.dataframe as dd\n",
    "import scipy\n",
    "import os\n",
    "import re\n",
    "import datetime\n",
    "import warnings\n",
    "\n",
    "from collections import defaultdict\n",
    "from wordcloud import WordCloud\n",
    "warnings.filterwarnings('ignore')\n",
    "\n",
    "%matplotlib inline"
   ]
  },
  {
   "cell_type": "code",
   "execution_count": 3,
   "metadata": {
    "ExecuteTime": {
     "end_time": "2020-02-05T10:56:26.717125Z",
     "start_time": "2020-02-05T10:56:26.418349Z"
    }
   },
   "outputs": [
    {
     "name": "stdout",
     "output_type": "stream",
     "text": [
      "<class 'pandas.core.frame.DataFrame'>\n",
      "RangeIndex: 116133 entries, 0 to 116132\n",
      "Data columns (total 17 columns):\n",
      "username                    116132 non-null object\n",
      "user_id                     116133 non-null int64\n",
      "user_watching               116133 non-null int64\n",
      "user_completed              116133 non-null int64\n",
      "user_onhold                 116133 non-null int64\n",
      "user_dropped                116133 non-null int64\n",
      "user_plantowatch            116133 non-null int64\n",
      "user_days_spent_watching    116133 non-null float64\n",
      "gender                      116133 non-null object\n",
      "location                    116127 non-null object\n",
      "birth_date                  116133 non-null object\n",
      "access_rank                 0 non-null float64\n",
      "join_date                   116133 non-null object\n",
      "last_online                 116133 non-null object\n",
      "stats_mean_score            116133 non-null float64\n",
      "stats_rewatched             116133 non-null float64\n",
      "stats_episodes              116133 non-null float64\n",
      "dtypes: float64(5), int64(6), object(6)\n",
      "memory usage: 15.1+ MB\n"
     ]
    }
   ],
   "source": [
    "df_users = pd.read_csv('../Datasets/myanimelist/users_filtered.csv')\n",
    "df_users.info()"
   ]
  },
  {
   "cell_type": "code",
   "execution_count": 4,
   "metadata": {
    "ExecuteTime": {
     "end_time": "2020-02-05T10:56:27.796852Z",
     "start_time": "2020-02-05T10:56:27.650746Z"
    }
   },
   "outputs": [
    {
     "name": "stdout",
     "output_type": "stream",
     "text": [
      "<class 'pandas.core.frame.DataFrame'>\n",
      "RangeIndex: 14474 entries, 0 to 14473\n",
      "Data columns (total 31 columns):\n",
      "anime_id          14474 non-null int64\n",
      "title             14474 non-null object\n",
      "title_english     5723 non-null object\n",
      "title_japanese    14440 non-null object\n",
      "title_synonyms    8936 non-null object\n",
      "image_url         14378 non-null object\n",
      "type              14474 non-null object\n",
      "source            14474 non-null object\n",
      "episodes          14474 non-null int64\n",
      "status            14474 non-null object\n",
      "airing            14474 non-null bool\n",
      "aired_string      14474 non-null object\n",
      "aired             14474 non-null object\n",
      "duration          14474 non-null object\n",
      "rating            14474 non-null object\n",
      "score             14474 non-null float64\n",
      "scored_by         14474 non-null int64\n",
      "rank              12901 non-null float64\n",
      "popularity        14474 non-null int64\n",
      "members           14474 non-null int64\n",
      "favorites         14474 non-null int64\n",
      "background        1057 non-null object\n",
      "premiered         4096 non-null object\n",
      "broadcast         4271 non-null object\n",
      "related           14474 non-null object\n",
      "producer          8288 non-null object\n",
      "licensor          3373 non-null object\n",
      "studio            8544 non-null object\n",
      "genre             14410 non-null object\n",
      "opening_theme     14474 non-null object\n",
      "ending_theme      14474 non-null object\n",
      "dtypes: bool(1), float64(2), int64(6), object(22)\n",
      "memory usage: 3.3+ MB\n"
     ]
    }
   ],
   "source": [
    "df_anime = pd.read_csv('../Datasets/myanimelist/anime_filtered.csv')\n",
    "df_anime.info()"
   ]
  },
  {
   "cell_type": "code",
   "execution_count": 8,
   "metadata": {
    "ExecuteTime": {
     "end_time": "2020-02-05T10:57:14.361869Z",
     "start_time": "2020-02-05T10:57:13.056583Z"
    }
   },
   "outputs": [
    {
     "data": {
      "text/html": [
       "<div>\n",
       "<style scoped>\n",
       "    .dataframe tbody tr th:only-of-type {\n",
       "        vertical-align: middle;\n",
       "    }\n",
       "\n",
       "    .dataframe tbody tr th {\n",
       "        vertical-align: top;\n",
       "    }\n",
       "\n",
       "    .dataframe thead th {\n",
       "        text-align: right;\n",
       "    }\n",
       "</style>\n",
       "<table border=\"1\" class=\"dataframe\">\n",
       "  <thead>\n",
       "    <tr style=\"text-align: right;\">\n",
       "      <th></th>\n",
       "      <th>username</th>\n",
       "      <th>anime_id</th>\n",
       "      <th>my_watched_episodes</th>\n",
       "      <th>my_start_date</th>\n",
       "      <th>my_finish_date</th>\n",
       "      <th>my_score</th>\n",
       "      <th>my_status</th>\n",
       "      <th>my_rewatching</th>\n",
       "      <th>my_rewatching_ep</th>\n",
       "      <th>my_last_updated</th>\n",
       "      <th>my_tags</th>\n",
       "    </tr>\n",
       "  </thead>\n",
       "  <tbody>\n",
       "    <tr>\n",
       "      <th>0</th>\n",
       "      <td>karthiga</td>\n",
       "      <td>21</td>\n",
       "      <td>586</td>\n",
       "      <td>0000-00-00</td>\n",
       "      <td>0000-00-00</td>\n",
       "      <td>9</td>\n",
       "      <td>1</td>\n",
       "      <td>NaN</td>\n",
       "      <td>0</td>\n",
       "      <td>1362307973</td>\n",
       "      <td>NaN</td>\n",
       "    </tr>\n",
       "    <tr>\n",
       "      <th>1</th>\n",
       "      <td>RedvelvetDaisuki</td>\n",
       "      <td>21</td>\n",
       "      <td>0</td>\n",
       "      <td>0000-00-00</td>\n",
       "      <td>0000-00-00</td>\n",
       "      <td>0</td>\n",
       "      <td>3</td>\n",
       "      <td>0.0</td>\n",
       "      <td>0</td>\n",
       "      <td>1355480701</td>\n",
       "      <td>NaN</td>\n",
       "    </tr>\n",
       "    <tr>\n",
       "      <th>2</th>\n",
       "      <td>Damonashu</td>\n",
       "      <td>21</td>\n",
       "      <td>418</td>\n",
       "      <td>0000-00-00</td>\n",
       "      <td>0000-00-00</td>\n",
       "      <td>10</td>\n",
       "      <td>1</td>\n",
       "      <td>0.0</td>\n",
       "      <td>0</td>\n",
       "      <td>1254296345</td>\n",
       "      <td>NaN</td>\n",
       "    </tr>\n",
       "  </tbody>\n",
       "</table>\n",
       "</div>"
      ],
      "text/plain": [
       "           username  anime_id  my_watched_episodes my_start_date  \\\n",
       "0          karthiga        21                  586    0000-00-00   \n",
       "1  RedvelvetDaisuki        21                    0    0000-00-00   \n",
       "2         Damonashu        21                  418    0000-00-00   \n",
       "\n",
       "  my_finish_date  my_score  my_status  my_rewatching  my_rewatching_ep  \\\n",
       "0     0000-00-00         9          1            NaN                 0   \n",
       "1     0000-00-00         0          3            0.0                 0   \n",
       "2     0000-00-00        10          1            0.0                 0   \n",
       "\n",
       "   my_last_updated my_tags  \n",
       "0       1362307973     NaN  \n",
       "1       1355480701     NaN  \n",
       "2       1254296345     NaN  "
      ]
     },
     "execution_count": 8,
     "metadata": {},
     "output_type": "execute_result"
    }
   ],
   "source": [
    "df_lists = dd.read_csv('../Datasets/myanimelist/animelists_filtered.csv')\n",
    "df_lists.head(3)"
   ]
  },
  {
   "cell_type": "code",
   "execution_count": null,
   "metadata": {
    "ExecuteTime": {
     "start_time": "2020-02-05T10:59:20.108Z"
    }
   },
   "outputs": [],
   "source": [
    "!jt -r"
   ]
  }
 ],
 "metadata": {
  "kernelspec": {
   "display_name": "Python 3",
   "language": "python",
   "name": "python3"
  },
  "language_info": {
   "codemirror_mode": {
    "name": "ipython",
    "version": 3
   },
   "file_extension": ".py",
   "mimetype": "text/x-python",
   "name": "python",
   "nbconvert_exporter": "python",
   "pygments_lexer": "ipython3",
   "version": "3.7.4"
  },
  "toc": {
   "base_numbering": 1,
   "nav_menu": {},
   "number_sections": true,
   "sideBar": true,
   "skip_h1_title": false,
   "title_cell": "Table of Contents",
   "title_sidebar": "Contents",
   "toc_cell": false,
   "toc_position": {},
   "toc_section_display": true,
   "toc_window_display": false
  },
  "varInspector": {
   "cols": {
    "lenName": 16,
    "lenType": 16,
    "lenVar": 40
   },
   "kernels_config": {
    "python": {
     "delete_cmd_postfix": "",
     "delete_cmd_prefix": "del ",
     "library": "var_list.py",
     "varRefreshCmd": "print(var_dic_list())"
    },
    "r": {
     "delete_cmd_postfix": ") ",
     "delete_cmd_prefix": "rm(",
     "library": "var_list.r",
     "varRefreshCmd": "cat(var_dic_list()) "
    }
   },
   "types_to_exclude": [
    "module",
    "function",
    "builtin_function_or_method",
    "instance",
    "_Feature"
   ],
   "window_display": false
  }
 },
 "nbformat": 4,
 "nbformat_minor": 2
}
